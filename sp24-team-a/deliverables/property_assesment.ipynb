{
 "cells": [
  {
   "cell_type": "markdown",
   "metadata": {},
   "source": [
    "The sam_id in property assessment and other datasets are the same, we can connect them together with this."
   ]
  },
  {
   "cell_type": "code",
   "execution_count": 2,
   "metadata": {},
   "outputs": [],
   "source": [
    "import pandas as pd\n",
    "import matplotlib.pyplot as plt"
   ]
  },
  {
   "cell_type": "code",
   "execution_count": 3,
   "metadata": {},
   "outputs": [
    {
     "name": "stderr",
     "output_type": "stream",
     "text": [
      "e:\\anaconda\\envs\\python37\\lib\\site-packages\\IPython\\core\\interactiveshell.py:3552: DtypeWarning: Columns (8,9,24,25,26) have mixed types.Specify dtype option on import or set low_memory=False.\n",
      "  exec(code_obj, self.user_global_ns, self.user_ns)\n"
     ]
    }
   ],
   "source": [
    "manage_df = pd.read_csv('Live_Street_Address_Management_(SAM)_Addresses.csv')\n",
    "buildprop_df = pd.read_csv('build_prop_violations.csv')\n",
    "enforcement_df = pd.read_csv('code_enforcement_violations.csv')\n",
    "property_df = pd.read_csv('fy2023-property-assessment-data.csv')"
   ]
  },
  {
   "cell_type": "code",
   "execution_count": 9,
   "metadata": {},
   "outputs": [],
   "source": [
    "merged_df1 = manage_df.merge(buildprop_df, left_on='SAM_ADDRESS_ID', right_on='sam_id')\n",
    "build_manage= merged_df1.drop(columns=buildprop_df.columns)\n"
   ]
  },
  {
   "cell_type": "code",
   "execution_count": 10,
   "metadata": {},
   "outputs": [
    {
     "data": {
      "text/plain": [
       "(2754,\n",
       " 5182,\n",
       " array([104., 197., 199., 201., 203.]),\n",
       " array([ 10.,  15.,   7., 172., 176.]))"
      ]
     },
     "execution_count": 10,
     "metadata": {},
     "output_type": "execute_result"
    }
   ],
   "source": [
    "\n",
    "st_num_unique = property_df['ST_NUM'].unique()\n",
    "sam_street_id_unique = manage_df['STREET_NUMBER_SORT'].unique()\n",
    "\n",
    "st_num_unique_count = len(st_num_unique)\n",
    "sam_street_id_unique_count = len(sam_street_id_unique)\n",
    "\n",
    "(st_num_unique_count, sam_street_id_unique_count, st_num_unique[:5], sam_street_id_unique[:5])"
   ]
  },
  {
   "cell_type": "code",
   "execution_count": 15,
   "metadata": {},
   "outputs": [
    {
     "data": {
      "text/plain": [
       "(2754,\n",
       " 1390,\n",
       " array([104., 197., 199., 201., 203.]),\n",
       " array(['83', '302', '123', '272', '44'], dtype=object))"
      ]
     },
     "execution_count": 15,
     "metadata": {},
     "output_type": "execute_result"
    }
   ],
   "source": [
    "\n",
    "violation_stno_unique = buildprop_df['violation_stno'].unique()\n",
    "\n",
    "violation_stno_unique_count = len(violation_stno_unique)\n",
    "\n",
    "(st_num_unique_count, violation_stno_unique_count, st_num_unique[:5], violation_stno_unique[:5])\n",
    "\n"
   ]
  }
 ],
 "metadata": {
  "kernelspec": {
   "display_name": "python37",
   "language": "python",
   "name": "python3"
  },
  "language_info": {
   "codemirror_mode": {
    "name": "ipython",
    "version": 3
   },
   "file_extension": ".py",
   "mimetype": "text/x-python",
   "name": "python",
   "nbconvert_exporter": "python",
   "pygments_lexer": "ipython3",
   "version": "3.7.15"
  }
 },
 "nbformat": 4,
 "nbformat_minor": 2
}
